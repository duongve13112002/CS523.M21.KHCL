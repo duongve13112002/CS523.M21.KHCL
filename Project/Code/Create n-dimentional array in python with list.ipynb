{
  "nbformat": 4,
  "nbformat_minor": 0,
  "metadata": {
    "colab": {
      "name": "create_nump_your_own__1.ipynb",
      "provenance": [],
      "collapsed_sections": [],
      "include_colab_link": true
    },
    "kernelspec": {
      "name": "python3",
      "display_name": "Python 3"
    },
    "language_info": {
      "name": "python"
    }
  },
  "cells": [
    {
      "cell_type": "markdown",
      "metadata": {
        "id": "view-in-github",
        "colab_type": "text"
      },
      "source": [
        "<a href=\"https://colab.research.google.com/github/RiderKick2204/CS523.M21.KHCL/blob/main/create_nump_your_own__1.ipynb\" target=\"_parent\"><img src=\"https://colab.research.google.com/assets/colab-badge.svg\" alt=\"Open In Colab\"/></a>"
      ]
    },
    {
      "cell_type": "markdown",
      "source": [
        "#Mấy cái hàm này là đúng rùi"
      ],
      "metadata": {
        "id": "v-8YQAiXDPMo"
      }
    },
    {
      "cell_type": "code",
      "source": [
        "from collections.abc import Sequence # Hàm lấy kích thước ok nhất\n",
        "def get_shape(lst, shapelst=()):\n",
        "    if not isinstance(lst, Sequence):\n",
        "        return shapelst\n",
        "    if isinstance(lst[0], Sequence):\n",
        "        innerlen = len(lst[0])\n",
        "        if not all(len(item) == innerlen for item in lst):\n",
        "            raise ValueError(\"All lists dont have same length\")\n",
        "    shapelst += (len(lst), )\n",
        "    shapelst = get_shape(lst[0], shapelst)\n",
        "    return shapelst\n",
        "\n",
        "def shape(lst , axis = None):\n",
        "  shape_list = get_shape(lst)\n",
        "  len_shape = len(shape_list)\n",
        "  if  axis is None:\n",
        "    return shape_list\n",
        "  elif axis < len_shape and axis >=0:\n",
        "    return  shape_list[axis] \n",
        "  else:\n",
        "    raise ValueError(\"Axis is illegal\") \n"
      ],
      "metadata": {
        "id": "4hX4Bmdr_6MM"
      },
      "execution_count": null,
      "outputs": []
    },
    {
      "cell_type": "code",
      "source": [
        "#Thay đổi kích thước\n",
        "from functools import reduce \n",
        "from operator import mul\n",
        "import itertools\n",
        "\n",
        "#Trong cái reshape này vì tiện lợi do đó nó reshape vì với n chiều thì nó bắt buộc chuyển n chiều thành 1 chiều rồi mới reshape theo kích thước của lập trình viên\n",
        "def reshape(lst, rshape_lst):\n",
        "    #print(len(shape(lst)))\n",
        "    #Hàm này kiểm tra cái kích cỡ sau khi reshape có vượt quá số lượng phần tử ko\n",
        "    lst_copy = lst.copy()\n",
        "    check_element = 1\n",
        "    for i in rshape_lst:\n",
        "      check_element *=i\n",
        "    number_el = number_of_elements(lst_copy)  \n",
        "    if  check_element < number_el or check_element > number_el:\n",
        "      raise ValueError(\"Cannot reshape array of size {} into shape {}\".format(number_el,rshape_lst))\n",
        "      #return []\n",
        "    #Chuyển số chiều của lst sang 1   \n",
        "    shape_lst = shape(lst_copy)\n",
        "    if len(rshape_lst) >0:\n",
        "      for i in range(0,len(shape(lst_copy))-1):\n",
        "        lst_copy = list(itertools.chain.from_iterable(lst_copy))\n",
        "      if len(rshape_lst) == 1:\n",
        "        return lst_copy  \n",
        "    n = reduce(mul, rshape_lst[1:])\n",
        "    return [reshape(lst_copy[i*n:(i+1)*n], rshape_lst[1:]) for i in range(len(lst_copy)//n)]"
      ],
      "metadata": {
        "id": "_OTvMcWxA138"
      },
      "execution_count": null,
      "outputs": []
    },
    {
      "cell_type": "code",
      "source": [
        "def Transpose(L):\n",
        "  T = L.copy()\n",
        "  shape_lst = list(shape(T))\n",
        "  dim = len(shape_lst)\n",
        "  for i in range(dim-1):\n",
        "    T = [a for b in T for a in b]\n",
        "  size = 1\n",
        "  for i in shape_lst:\n",
        "    size = size * i\n",
        "  for i in shape_lst[:-1]:\n",
        "    size //= i\n",
        "    new_T = []\n",
        "    for j in range(size):\n",
        "      new_T.append([])\n",
        "      for k in range(i):\n",
        "        new_T[j] = new_T[j] + [T[j+k*size]]\n",
        "    T = new_T.copy()\n",
        "  return T"
      ],
      "metadata": {
        "id": "JCdW82-SVL7m"
      },
      "execution_count": null,
      "outputs": []
    },
    {
      "cell_type": "markdown",
      "source": [
        "Hàm nối các ma trận với nhau"
      ],
      "metadata": {
        "id": "3Y0RQxQFJKXd"
      }
    },
    {
      "cell_type": "code",
      "source": [
        "def concatenate_support(arr_ls,axis=0):\n",
        "  if(len(arr_ls) == 0):\n",
        "    raise ValueError(\"concatenate_support() missing 1 required positional argument: 'arr_ls' \")\n",
        "    #return[]\n",
        "  #shape_arr = shape(arr_ls[0])\n",
        "  '''if shape(arr_ls[0]) != shape(arr_ls[1]):\n",
        "    print('Error1')\n",
        "    return[]'''\n",
        "  if axis == 0:\n",
        "    res = arr_ls[0]+arr_ls[1]\n",
        "    return res  \n",
        "  elif axis == 1:\n",
        "    #res = list(sub1 + sub2 for sub1, sub2 in zip(arr_ls[0],arr_ls[1]))\n",
        "    res = list(zip(arr_ls[0] ,arr_ls[1] ))\n",
        "    shape_res = shape(res)\n",
        "    #print(shape_res)\n",
        "    if len(shape_res) <=2:\n",
        "      return res\n",
        "    shape_res_real = [shape_res[0]]\n",
        "    #print(len(shape_res-1))\n",
        "    if len(shape_res) == 3:\n",
        "      shape_res_real.append(shape_res[1]*shape_res[2])\n",
        "    elif len(shape_res) > 3:\n",
        "      for i in range(1,len(shape_res)-1):\n",
        "          if i == 1:\n",
        "            shape_res_real.append(shape_res[1]*shape_res[2])\n",
        "          else:\n",
        "            shape_res_real.append(shape_res[i+1])  \n",
        "    res = reshape(res,shape_res_real)    \n",
        "    return res\n",
        "\n",
        "#arr_ls là 1 tuple/list của list đưa vào để liên kết nhau\n",
        "def concatenate(arr_ls,axis=0):\n",
        "  if len(arr_ls) == 0:\n",
        "    raise ValueError(\"concatenate() missing 1 required positional argument: 'arr_ls' \")\n",
        "  elif len(arr_ls) == 1:\n",
        "    return arr_ls[0]  \n",
        "  else:\n",
        "    shape_source = get_shape(arr_ls[0])\n",
        "    for i in range(1 , len(arr_ls)):\n",
        "      if shape_source != get_shape(arr_ls[i]):\n",
        "        raise ValueError(\"All lists dont have same shape\")\n",
        "    arr_c = arr_ls[0].copy()\n",
        "    for i in range(1,len(arr_ls)):\n",
        "      arr = (arr_c,arr_ls[i])\n",
        "      arr_c =  concatenate_support(arr,axis)\n",
        "    return arr_c      "
      ],
      "metadata": {
        "id": "4fVpH75JJJyK"
      },
      "execution_count": null,
      "outputs": []
    },
    {
      "cell_type": "code",
      "source": [
        "#Đếm số lượng phần tử của list\n",
        "def number_of_elements(lst):\n",
        "  lst_shape = shape(lst)\n",
        "  sum = 1\n",
        "  for i in lst_shape:\n",
        "    sum *=i\n",
        "  return sum  "
      ],
      "metadata": {
        "id": "NSyHKApiz9tA"
      },
      "execution_count": null,
      "outputs": []
    },
    {
      "cell_type": "markdown",
      "source": [
        "- Cái tiếp theo minh cần làm là các phép cộng , trù với các ma trận có shape = nha\n",
        "+ B1 : Tao hàm tính tổng số phần tử của mảng \n",
        "+ B2 : Tạo hàm tính : \n",
        "    - Bước 1 kiểm tra shape của 2 thằng đó nó có bằng nhau hay ko . Nếu có thì sang bước 2 , Nếu ko thì return và báo lỗi\n",
        "    - Bước 2 : nên lấy 1 biến lưu lại shape lúc đầu của màng\n",
        "    - Bước 3 : reshape lại 2 cái mảng thành dạng (tổng phần tử ,) nên tạo biến khác chứa mảng reshape ko nên lấy chính cái biến đó xảy ra lỗi ngáo j đó ko fix dc\n",
        "    - Bước 4 : tính toán bình thường như phép cộng và phép nhân , phép nhân\n",
        "    - Bước 5 reshape mảng kết quả thành kích thước mảng ban đầu sau đó trả về giá trị"
      ],
      "metadata": {
        "id": "5k8WpKdXQjVb"
      }
    },
    {
      "cell_type": "code",
      "source": [
        "#Hàm check_shape 2 thằng\n",
        "def check_equal_shape(lst_a):\n",
        "  shape_1 = shape(lst_a[0])\n",
        "  shape_2 = shape(lst_a[1])\n",
        "  if shape_1 == shape_2:\n",
        "    return True\n",
        "  return False  \n",
        "\n",
        "#Hàm dùng dê tính toán các mảng lst_a mình cho 2 cái để dễ xử lý \n",
        "def element_wise_support(lst_a,option):\n",
        "  if option == '+':\n",
        "    sum_list = [a + b for a, b in zip(lst_a[0], lst_a[1])]\n",
        "    return sum_list\n",
        "  elif option == '-':\n",
        "    subtract_list = [a - b for a, b in zip(lst_a[0], lst_a[1])]\n",
        "    return subtract_list\n",
        "  elif option == '*':\n",
        "    multiplication_list = [a * b for a, b in zip(lst_a[0], lst_a[1])]\n",
        "    return multiplication_list\n",
        "  else:\n",
        "    raise ValueError('option is illegal')\n",
        "\n",
        "def element_wise_calculation(lst_a,option):\n",
        "  if (len(lst_a) < 2):\n",
        "    raise ValueError(\"Required more than one element in lst_a\")\n",
        "  elif option == '+' or option == '-' or option == '*':\n",
        "      shape_source = shape(lst_a[0])\n",
        "      for i in range(0, len(lst_a)):\n",
        "        if shape_source != shape(lst_a[i]):\n",
        "          raise ValueError(\"All lists dont have same shape\")\n",
        "      total_ele=number_of_elements(lst_a[0])\n",
        "      #print(total_ele)\n",
        "      cal_list = reshape(lst_a[0],(total_ele,))\n",
        "      #print(cal_list)\n",
        "      for i in range(1,len(lst_a)):\n",
        "        cal_list2 = reshape(lst_a[i],(total_ele,))\n",
        "        cal_list=element_wise_support((cal_list,cal_list2),option)\n",
        "      cal_list_real = reshape(cal_list,shape_source)\n",
        "      return cal_list_real  \n",
        "  else:\n",
        "    raise ValueError('option is illegal')"
      ],
      "metadata": {
        "id": "RshzMZrcQcpi"
      },
      "execution_count": null,
      "outputs": []
    },
    {
      "cell_type": "markdown",
      "source": [
        "Hàm cumsum (theo những gì hay làm):\n",
        "- Vì đây là n-dimention -> nên reshape nó sang dạng (ele,) [hay là 1-D] Với ele là tổng số lượng phần từ\n",
        "- Sau đó tạo ra 1 biến tên là cumsum_lst là 1 list\n",
        "- Tính toán trong cái list đó \n",
        "- return cái list đó"
      ],
      "metadata": {
        "id": "eVByApkVCDwt"
      }
    },
    {
      "cell_type": "code",
      "source": [
        "def cumsum(lst):\n",
        "  max_ele = number_of_elements(lst)\n",
        "  lst_reshape = reshape(lst,(max_ele,))\n",
        "  cu_list =[]\n",
        "  length = len(lst_reshape)\n",
        "  cu_list = [sum(lst_reshape[0:x:1]) for x in range(0, length+1)]\n",
        "  return cu_list[1:]"
      ],
      "metadata": {
        "id": "OIk2P6_DCEss"
      },
      "execution_count": null,
      "outputs": []
    },
    {
      "cell_type": "code",
      "source": [
        "def operations_on_arrays(lst,opt):\n",
        "  if opt == 'max':\n",
        "    max_ele = number_of_elements(lst)\n",
        "    lst_reshape = reshape(lst,(max_ele,))\n",
        "    return max(lst_reshape)\n",
        "  elif opt == 'min':\n",
        "    max_ele = number_of_elements(lst)\n",
        "    lst_reshape = reshape(lst,(max_ele,))\n",
        "    return min(lst_reshape)\n",
        "  elif opt == 'sum':\n",
        "    max_ele = number_of_elements(lst)\n",
        "    lst_reshape = reshape(lst,(max_ele,))\n",
        "    return sum(lst_reshape)\n",
        "  else:\n",
        "    raise ValueError('option is illegal')    "
      ],
      "metadata": {
        "id": "7oiT7jfoGCyE"
      },
      "execution_count": null,
      "outputs": []
    },
    {
      "cell_type": "code",
      "source": [
        "#Trả về 1 mảng có các phần từ trong đó chạy từ start đến stop\n",
        "def arange(start  , stop , step =1 ):\n",
        "  lst =[]\n",
        "  #lst = [i for i in range(start,stop,step)]\n",
        "  i = start\n",
        "  #nên làm tròn theo chữ số phẩy đầu tiên VD : 10,699999 -> 10.7\n",
        "  while round(i,1) < stop:   \n",
        "    lst.append(i)\n",
        "    i +=step\n",
        "  return lst"
      ],
      "metadata": {
        "id": "mxMS110GMHG_"
      },
      "execution_count": null,
      "outputs": []
    },
    {
      "cell_type": "code",
      "source": [
        "#retstep là true thì ko chỉ trả về list mà còn trả về step của từng phần tử trong mảng còn là false thì ko cần trả về\n",
        "#endpoint là true thì cái list chỉ các phẩn tử <= stop còn là false thì cái list chỉ các phẩn tử < stop\n",
        "# Ta có : số số hạng = ((số cuối - số đầu)/Khoảng cách) +1\n",
        "def linspace(start,stop,number=50,endpoint = True , retstep = False):\n",
        "  lst = []\n",
        "  if endpoint == True:\n",
        "    step = (stop-start)/(number-1)\n",
        "    lst = arange(start,stop+step,step)\n",
        "  else :\n",
        "    step = (stop - start)/number\n",
        "    #print(step)\n",
        "    lst = arange(start,stop,step)\n",
        "  if retstep == False:\n",
        "    return lst\n",
        "  return lst,step     "
      ],
      "metadata": {
        "id": "dAX1iZ21cmST"
      },
      "execution_count": null,
      "outputs": []
    },
    {
      "cell_type": "code",
      "source": [
        "#Khởi tạo mảng toàn có giá trị bằng 0 có kích thước cho trước\n",
        "def zeros(shape_lst):\n",
        "  element_lst = 1 \n",
        "  for i in shape_lst:\n",
        "    element_lst *=i\n",
        "  lst = []\n",
        "  for i in range(0,element_lst):\n",
        "    lst.append(0)\n",
        "  #print(lst)  \n",
        "  return reshape(lst,shape_lst)  "
      ],
      "metadata": {
        "id": "0QpDtqaXY8Fr"
      },
      "execution_count": null,
      "outputs": []
    },
    {
      "cell_type": "code",
      "source": [
        "#Tạo ma trận đơn vi ( là ma trận có đường chéo chính bằng 1)\n",
        "def eye(N, M=None,k=0):\n",
        "    if M is None:\n",
        "        M = N\n",
        "    m = zeros((N, M))\n",
        "    element_lst = number_of_elements(m)\n",
        "    if k >= M:\n",
        "        return m\n",
        "    if k >= 0:\n",
        "        i = k\n",
        "    else:\n",
        "        i = (-k) * M \n",
        "    m = reshape(m[:M-k],(element_lst,))\n",
        "    #print(m)\n",
        "    for j in range(i,len(m),M+1):\n",
        "      m[j] = 1     \n",
        "    m = reshape(m,(N,M))\n",
        "    return m"
      ],
      "metadata": {
        "id": "KcgDxNSggezX"
      },
      "execution_count": null,
      "outputs": []
    },
    {
      "cell_type": "code",
      "source": [
        "#Ghép theo chiều thẳng đứng\n",
        "def vstack(arr_lst):\n",
        "  return concatenate(arr_lst,0)"
      ],
      "metadata": {
        "id": "ShSFGK-YwuSw"
      },
      "execution_count": null,
      "outputs": []
    },
    {
      "cell_type": "code",
      "source": [
        "#Ghép theo chiều ngang\n",
        "def hstack(arr_lst):\n",
        "  return concatenate(arr_lst,1)"
      ],
      "metadata": {
        "id": "ioH3W8zvxHMz"
      },
      "execution_count": null,
      "outputs": []
    },
    {
      "cell_type": "code",
      "source": [
        "#Chia mảng nhưng số phần tử của các mảng chia ko cần giống nhau\n",
        "def array_split(ary, indices_or_sections):\n",
        "    try:\n",
        "        Ntotal = shape(ary,0)\n",
        "    except AttributeError:\n",
        "        Ntotal = len(ary)\n",
        "    try:\n",
        "        # handle array case.\n",
        "        Nsections = len(indices_or_sections) + 1\n",
        "        div_points = [0] + list(indices_or_sections) + [Ntotal]\n",
        "    except TypeError:\n",
        "        # indices_or_sections is a scalar, not an array.\n",
        "        Nsections = int(indices_or_sections)\n",
        "        if Nsections <= 0:\n",
        "            raise ValueError('number sections must be larger than 0.') from None\n",
        "        Neach_section, extras = divmod(Ntotal, Nsections)\n",
        "        section_sizes = ([0] +\n",
        "                         extras * [Neach_section+1] +\n",
        "                         (Nsections-extras) * [Neach_section])\n",
        "        div_points = cumsum(section_sizes)\n",
        "\n",
        "    sub_arys = []\n",
        "    sary = ary.copy()\n",
        "    for i in range(Nsections):\n",
        "        st = div_points[i]\n",
        "        end = div_points[i + 1]\n",
        "        sub_arys.append(sary[st:end])\n",
        "\n",
        "    return sub_arys"
      ],
      "metadata": {
        "id": "1RCCAVUUrZ2S"
      },
      "execution_count": null,
      "outputs": []
    },
    {
      "cell_type": "code",
      "source": [
        "#Chia mảng số phần tử trong mỗi mảng giống nhau\n",
        "def split(ary, indices_or_sections):\n",
        "    try:\n",
        "        len(indices_or_sections)\n",
        "    except TypeError:\n",
        "        sections = indices_or_sections\n",
        "        N = shape(ary,0)\n",
        "        if N % sections:\n",
        "            raise ValueError(\n",
        "                'array split does not result in an equal division') from None\n",
        "    return array_split(ary, indices_or_sections)"
      ],
      "metadata": {
        "id": "u9qYOUFAspT7"
      },
      "execution_count": null,
      "outputs": []
    },
    {
      "cell_type": "code",
      "source": [
        "def normalize_axis_index(axis, ndim):\n",
        "  if ndim <0 :\n",
        "    raise ValueError('dimention 0 is not accepted')\n",
        "  if axis < -ndim or axis >= ndim:\n",
        "    raise ValueError('axis is out of bounds for array')\n",
        "  if axis <0:\n",
        "    axis = ndim + axis  \n",
        "  return axis"
      ],
      "metadata": {
        "id": "WRLl4WZp3I0M"
      },
      "execution_count": null,
      "outputs": []
    },
    {
      "cell_type": "code",
      "source": [
        "def stack(arrays, axis=0):\n",
        "    arrays = [arr for arr in arrays]\n",
        "    if not arrays:\n",
        "        raise ValueError('need at least one array to stack')\n",
        "    shapes = {shape(arr) for arr in arrays}\n",
        "    #print(shapes)\n",
        "    if len(shapes) != 1:\n",
        "        raise ValueError('all input arrays must have the same shape')\n",
        "    shape_check = shape(arrays[0])    \n",
        "    result_ndim = len(shape_check)+1\n",
        "    axis = normalize_axis_index(axis, result_ndim)\n",
        "    #print(axis)\n",
        "    sl = (slice(None),) * axis + (None,)\n",
        "    expanded_arrays = []\n",
        "    if axis == 0:\n",
        "      for arr in arrays:\n",
        "        expanded_arrays.append([arr])\n",
        "    else :\n",
        "      for arr in arrays:\n",
        "        expanded_arrays.append(arr)\n",
        "    #expanded_arrays = tuple(arr for arr in arrays)\n",
        "    #print(expanded_arrays)\n",
        "    return concatenate(expanded_arrays, axis=axis)"
      ],
      "metadata": {
        "id": "lQ6wPsVB-T4x"
      },
      "execution_count": null,
      "outputs": []
    },
    {
      "cell_type": "code",
      "source": [
        "#Tính determinant của list\n",
        "def assert_stacked_square(*arrays):\n",
        "    for a in arrays:\n",
        "        shape_a = shape(a)\n",
        "        m, n = shape_a[-2:]\n",
        "        if m != n:\n",
        "            raise ValueError('Last 2 dimensions of the array must be square')\n",
        "def assert_stacked_2d(*arrays):\n",
        "    for a in arrays:\n",
        "        shape_a = shape(a)\n",
        "        if len(shape_a) < 2:\n",
        "            raise ValueError('%d-dimensional array given. Array must be '\n",
        "                    'at least two-dimensional' % len(shape_a))\n",
        "def minor(array,i,j):\n",
        "    c = array\n",
        "    c = c[:i] + c[i+1:]\n",
        "    for k in range(0,len(c)):\n",
        "        c[k] = c[k][:j]+c[k][j+1:]\n",
        "    return c\n",
        "def det_support(array,n):\n",
        "    if n == 1 :return array[0][0]\n",
        "    if n == 2 :return array[0][0]*array[1][1] - array[0][1]*array[1][0]\n",
        "    sum = 0\n",
        "    for i in range(0,n):\n",
        "        m = minor(array,0,i)\n",
        "        sum =sum + ((-1)**i)*array[0][i] * det(m,n-1)\n",
        "    return sum\n",
        "\n",
        "def det(lst):\n",
        "  assert_stacked_2d(lst)\n",
        "  assert_stacked_square(lst)\n",
        "  shape_list = shape(lst)\n",
        "  if len(shape_list) == 2:\n",
        "    return det_support(lst,shape_list[0])\n",
        "  else:\n",
        "    size_n = shape_list[:-2]\n",
        "    shape_k = shape_list[-2:]\n",
        "    sum= 1\n",
        "    for i in size_n:\n",
        "      sum*=i\n",
        "    shape_new =  [sum] + list(shape_k)\n",
        "    lst_re = reshape(lst,shape_new)\n",
        "    lst_det = []\n",
        "    for i in range(sum):\n",
        "      lst_det.append(det_support(lst_re[i],shape_k[0]))\n",
        "    result = reshape(lst_det, size_n)\n",
        "    return result   "
      ],
      "metadata": {
        "id": "Fd580uKxwrwf"
      },
      "execution_count": null,
      "outputs": []
    },
    {
      "cell_type": "code",
      "source": [
        "def clip(lst , lstmin , lstmax ):\n",
        "  shape_lst = shape(lst)\n",
        "  ele = number_of_elements(lst)\n",
        "  if(len(shape_lst)> 1):\n",
        "    lst = reshape(lst,(ele,))\n",
        "  if type(lstmin) is not list and type(lstmax) is not list:\n",
        "    if lstmin <= lstmax:\n",
        "      for i in range(0,ele):\n",
        "        if lst[i] < lstmin:\n",
        "          lst[i] = lstmin\n",
        "        elif lst[i] > lstmax:\n",
        "          lst[i] = lstmax\n",
        "      \n",
        "    else:\n",
        "      for i in range(0,ele):\n",
        "        if lst[i] > lstmax:\n",
        "          lst[i] = lstmax\n",
        "    lst = reshape(lst,shape_lst)\n",
        "    return lst        \n",
        "  if type(lstmin) is list or type(lstmax) is list:\n",
        "    if type(lstmin) is list and type(lstmax) is list:\n",
        "      if shape(lstmin) != shape_lst and shape(lstmax) != shape_lst :\n",
        "        raise ValueError('operands could not be broadcast together with shapes')\n",
        "      lstmin = reshape(lstmin,shape_lst)\n",
        "      lstmax = reshape(lstmax,shape_lst)\n",
        "      for i in range(0,ele):\n",
        "        if lstmin[i] <= lstmax[i]:\n",
        "          if lst[i] < lstmin[i]:\n",
        "            lst[i] = lstmin[i]\n",
        "          elif lst[i] > lstmax[i]:\n",
        "            lst[i] = lstmax[i]\n",
        "        else:\n",
        "          if lst[i] > lstmax[i]:\n",
        "            lst[i] = lstmax[i]\n",
        "      lst = reshape(lst,shape_lst)\n",
        "      return lst\n",
        "    elif type(lstmin) is list and type(lstmax) is not list:\n",
        "      if shape(lstmin) != shape_lst :\n",
        "        raise ValueError('operands could not be broadcast together with shapes')\n",
        "      lstmin = reshape(lstmin,shape_lst)\n",
        "      #print('hi')\n",
        "      for i in range(0,ele):\n",
        "        if lstmin[i] <= lstmax:\n",
        "          if lst[i] < lstmin[i]:\n",
        "            lst[i] = lstmin[i]\n",
        "          elif lst[i] > lstmax:\n",
        "            lst[i] = lstmax\n",
        "        else:\n",
        "          if lst[i] > lstmax:\n",
        "            lst[i] = lstmax\n",
        "      lst = reshape(lst,shape_lst)\n",
        "      return lst\n",
        "    else:\n",
        "      if  shape(lstmax) != shape_lst :\n",
        "        raise ValueError('operands could not be broadcast together with shapes')\n",
        "      lstmax = reshape(lstmax,shape_lst)\n",
        "      for i in range(0,ele):\n",
        "        if lstmin <= lstmax[i]:\n",
        "          if lst[i] < lstmin:\n",
        "            lst[i] = lstmin\n",
        "          elif lst[i] > lstmax[i]:\n",
        "            lst[i] = lstmax[i]\n",
        "        else:\n",
        "          if lst[i] > lstmax[i]:\n",
        "            lst[i] = lstmax[i]\n",
        "      lst = reshape(lst,shape_lst)\n",
        "      return lst"
      ],
      "metadata": {
        "id": "XByxd7gZuX2Z"
      },
      "execution_count": null,
      "outputs": []
    },
    {
      "cell_type": "code",
      "source": [
        "def sqrt(lst):\n",
        "  if type(lst) is not list:\n",
        "    raise ValueError('Input is not a list')\n",
        "  shape_lst = shape(lst)\n",
        "  ele = number_of_elements(lst)\n",
        "  lst = reshape(lst,(ele,))\n",
        "  for i in range(0,ele):\n",
        "    lst[i] = lst[i] **(1/2)\n",
        "  lst = reshape(lst,shape_lst)\n",
        "  return lst"
      ],
      "metadata": {
        "id": "1tdx5ujkxxkj"
      },
      "execution_count": null,
      "outputs": []
    },
    {
      "cell_type": "code",
      "source": [
        "def ndim(lst):\n",
        "  if type(lst) is not list:\n",
        "    raise ValueError('Input is not a list')\n",
        "  dim = len(shape(lst))\n",
        "  return dim  \n"
      ],
      "metadata": {
        "id": "LPZCjwIisgbz"
      },
      "execution_count": null,
      "outputs": []
    },
    {
      "cell_type": "code",
      "source": [
        "def multiply_list(lst1,lst2):\n",
        "  shape_lst1=shape(lst1)\n",
        "  shape_lst2=shape(lst2)\n",
        "  if len(shape_lst1) == 0 or len(shape_lst2) == 0:\n",
        "    raise ValueError('0-dimenton is Illegal' )\n",
        "  if shape_lst1 != shape_lst2:\n",
        "    if len(shape_lst1) !=1 and len(shape_lst2) !=1:\n",
        "      raise ValueError('Operands could not be broadcast together with shapes ' )\n",
        "    number1 = number_of_elements(lst1)\n",
        "    number2 = number_of_elements(lst2)\n",
        "    if len(shape_lst1) > len(shape_lst2):\n",
        "      mod_du = number1 % number2\n",
        "      if mod_du != 0 or shape_lst1[-1] != shape_lst2[0] :\n",
        "        raise ValueError('Operands could not be broadcast together with shapes ' )\n",
        "      else :\n",
        "        chia = number1 / number2 \n",
        "        lst2_shape = reshape(lst2*int(chia),shape_lst1)\n",
        "        return element_wise_calculation((lst1,lst2_shape),'*')\n",
        "    else:\n",
        "      mod_du = number2 % number1\n",
        "      #print(number2)\n",
        "      #print(number1)\n",
        "      if mod_du != 0 or shape_lst2[-1] != shape_lst1[0] :\n",
        "        raise ValueError('Operands could not be broadcast together with shapes ' )\n",
        "      else :\n",
        "        chia = number2 / number1\n",
        "        #print(chia) \n",
        "        lst1_shape = reshape(lst1*int(chia),shape_lst2)\n",
        "        return element_wise_calculation((lst2,lst1_shape),'*')\n",
        "  else :\n",
        "    return element_wise_calculation((lst1,lst2),'*')\n",
        "\n"
      ],
      "metadata": {
        "id": "GbIoVJez4v6u"
      },
      "execution_count": null,
      "outputs": []
    },
    {
      "cell_type": "code",
      "source": [
        "#Cho các phẩn tử trong list sang số dương\n",
        "def abs_list(lst):\n",
        "  shape_lst = shape(lst)\n",
        "  number1 = number_of_elements(lst)\n",
        "  lst_change = reshape(lst,(number1,))\n",
        "  #print(shape_lst)\n",
        "  for i in range(len(lst_change)):\n",
        "    if lst_change[i] <0:\n",
        "       lst_change[i] = -lst_change[i]\n",
        "  return reshape(lst_change, shape_lst) "
      ],
      "metadata": {
        "id": "sl8MwYiC-Xgd"
      },
      "execution_count": null,
      "outputs": []
    },
    {
      "cell_type": "code",
      "source": [
        "#Return a new array with the specified shape.\n",
        "#    If the new array is larger than the original array, then the new\n",
        "#    array is filled with repeated copies of `a`.  Note that this behavior\n",
        "#    is different from a.resize(new_shape) which fills with zeros instead\n",
        "#    of repeated copies of `a`.\n",
        "def resize(lst,new_shape):\n",
        "  ele_lst =  number_of_elements(lst)\n",
        "  lst_new = reshape(lst,(ele_lst,))\n",
        "  sum = 1\n",
        "  for i in new_shape:\n",
        "    sum*=i\n",
        "    if i < 0:\n",
        "      raise ValueError('All elements of `new_shape` must be non-negative')\n",
        "  if ele_lst == 0 or sum  == 0:\n",
        "    raise ValueError('Illegal')\n",
        "  if sum == ele_lst:\n",
        "    return reshape(lst,new_shape)\n",
        "  elif sum < ele_lst:\n",
        "    lst_f = [lst_new[i] for i in range(sum)]\n",
        "    return reshape(lst_f,new_shape)\n",
        "  else:\n",
        "    phan_nguyen = sum // ele_lst   \n",
        "    phan_du = sum % ele_lst\n",
        "    lst_new1 = lst_new * phan_nguyen\n",
        "    lst_f = [lst_new[i] for i in range(phan_du)]\n",
        "    lst_new_real = lst_new1 + lst_f\n",
        "    return reshape(lst_new_real,new_shape)"
      ],
      "metadata": {
        "id": "pJitumjHIzYc"
      },
      "execution_count": null,
      "outputs": []
    },
    {
      "cell_type": "code",
      "source": [
        "#    Trim the leading and/or trailing zeros from a 1-D array or sequence.\n",
        "def trim_zeros(filt, trim='fb'):\n",
        "    first = 0\n",
        "    trim = trim.upper()\n",
        "    if 'F' in trim:\n",
        "        for i in filt:\n",
        "            if i != 0.:\n",
        "                break\n",
        "            else:\n",
        "                first = first + 1\n",
        "    last = len(filt)\n",
        "    if 'B' in trim:\n",
        "        for i in filt[::-1]:\n",
        "            if i != 0.:\n",
        "                break\n",
        "            else:\n",
        "                last = last - 1\n",
        "    return filt[first:last]"
      ],
      "metadata": {
        "id": "6iqVUo1_LEQk"
      },
      "execution_count": null,
      "outputs": []
    },
    {
      "cell_type": "code",
      "source": [
        "import math\n",
        "#Làm\n",
        "def exp_lst(lst):\n",
        "  get_shape = shape(lst)\n",
        "  ele = number_of_elements(lst)\n",
        "  lst_new = reshape(lst,(ele,))\n",
        "  lst_exp_D = [math.e**x for x in lst_new]\n",
        "  return reshape(lst_exp_D,get_shape)"
      ],
      "metadata": {
        "id": "lYmcEMhQYskK"
      },
      "execution_count": null,
      "outputs": []
    },
    {
      "cell_type": "code",
      "source": [
        "#Tính 2^p cho tất cả p trong mảng đầu vào.\n",
        "def exp2_lst(lst):\n",
        "  get_shape = shape(lst)\n",
        "  ele = number_of_elements(lst)\n",
        "  lst_new = reshape(lst,(ele,))\n",
        "  lst_exp_D = [2**x for x in lst_new]\n",
        "  return reshape(lst_exp_D,get_shape)"
      ],
      "metadata": {
        "id": "QXCjbfDaZqG0"
      },
      "execution_count": null,
      "outputs": []
    },
    {
      "cell_type": "code",
      "source": [
        "import math\n",
        "def log_lst(lst):\n",
        "  get_shape = shape(lst)\n",
        "  ele = number_of_elements(lst)\n",
        "  lst_new = reshape(lst,(ele,))\n",
        "  lst_re = []\n",
        "  for x in lst_new:\n",
        "    if x == 0:\n",
        "      lst_re.append(float('-inf'))\n",
        "    elif x < 0:\n",
        "      lst_re.append(float('nan'))  \n",
        "    else:\n",
        "      lst_re.append(math.log(x))\n",
        "  return reshape(lst_re,get_shape)"
      ],
      "metadata": {
        "id": "I5NHNRlGdbC9"
      },
      "execution_count": null,
      "outputs": []
    },
    {
      "cell_type": "code",
      "source": [
        "import math\n",
        "def log10_lst(lst):\n",
        "  get_shape = shape(lst)\n",
        "  ele = number_of_elements(lst)\n",
        "  lst_new = reshape(lst,(ele,))\n",
        "  lst_re = []\n",
        "  for x in lst_new:\n",
        "    if x == 0:\n",
        "      lst_re.append(float('-inf'))\n",
        "    elif x < 0:\n",
        "      lst_re.append(float('nan'))  \n",
        "    else:\n",
        "      lst_re.append(math.log10(x))\n",
        "  return reshape(lst_re,get_shape)"
      ],
      "metadata": {
        "id": "c06tsXnZeIZd"
      },
      "execution_count": null,
      "outputs": []
    },
    {
      "cell_type": "code",
      "source": [
        "import math\n",
        "def log2_lst(lst):\n",
        "  get_shape = shape(lst)\n",
        "  ele = number_of_elements(lst)\n",
        "  lst_new = reshape(lst,(ele,))\n",
        "  lst_re = []\n",
        "  for x in lst_new:\n",
        "    if x == 0:\n",
        "      lst_re.append(float('-inf'))\n",
        "    elif x < 0:\n",
        "      lst_re.append(float('nan'))  \n",
        "    else:\n",
        "      lst_re.append(math.log2(x))\n",
        "  return reshape(lst_re,get_shape)"
      ],
      "metadata": {
        "id": "SAQHSWTneyo7"
      },
      "execution_count": null,
      "outputs": []
    },
    {
      "cell_type": "code",
      "source": [
        "import math\n",
        "def log1p_lst(lst):\n",
        "  get_shape = shape(lst)\n",
        "  ele = number_of_elements(lst)\n",
        "  lst_new = reshape(lst,(ele,))\n",
        "  lst_re = []\n",
        "  for x in lst_new:\n",
        "    x = 1+x\n",
        "    if x == 0:\n",
        "      lst_re.append(float('-inf'))\n",
        "    elif x < 0:\n",
        "      lst_re.append(float('nan'))  \n",
        "    else:\n",
        "      lst_re.append(math.log(x))\n",
        "  return reshape(lst_re,get_shape)"
      ],
      "metadata": {
        "id": "3CGFbz_dfIYI"
      },
      "execution_count": null,
      "outputs": []
    },
    {
      "cell_type": "code",
      "source": [
        "def size_list(lst,axis = None):\n",
        "  if axis is None :\n",
        "    return number_of_elements(lst)\n",
        "  else :\n",
        "    return shape(lst,axis)  "
      ],
      "metadata": {
        "id": "CNi61RO2aC68"
      },
      "execution_count": null,
      "outputs": []
    },
    {
      "cell_type": "code",
      "source": [
        "#Chưa có axis\n",
        "def means_lst(lst, axis = None):\n",
        "  return cumsum(lst)[-1] /  number_of_elements(lst)"
      ],
      "metadata": {
        "id": "4uDtD0yvhRRk"
      },
      "execution_count": null,
      "outputs": []
    },
    {
      "cell_type": "code",
      "source": [
        "def round_lst(lst , decimals = 0):\n",
        "  if decimals == 0:\n",
        "    return lst\n",
        "  else:\n",
        "    shape_lst = shape(lst) \n",
        "    lst_c = reshape(lst ,(number_of_elements(lst),) )\n",
        "    for i in range (len(lst_c)):\n",
        "      lst_c[i] = round(lst_c[i],decimals) \n",
        "    lst_c = reshape(lst_c,shape_lst) \n",
        "    return lst_c "
      ],
      "metadata": {
        "id": "rP_-62ojjyrw"
      },
      "execution_count": null,
      "outputs": []
    },
    {
      "cell_type": "code",
      "source": [
        "def std_lst(lst ):\n",
        "  mean_lst = means_lst(lst)\n",
        "  sum_ele = number_of_elements(lst)\n",
        "  lst_s = reshape(lst ,(sum_ele,) )\n",
        "  variance = sum([((x - mean_lst) ** 2) for x in lst_s]) / sum_ele\n",
        "  stddev = variance ** 0.5\n",
        "  return stddev"
      ],
      "metadata": {
        "id": "QcmDP2__m2hJ"
      },
      "execution_count": null,
      "outputs": []
    },
    {
      "cell_type": "code",
      "source": [
        "import math\n",
        "#So sánh 2 mảng có giống/bằng nhau không\n",
        "def array_equal(a1, a2, equal_nan=False):\n",
        "    if type(a1) is not list :\n",
        "      raise ValueError('a1 is not list')\n",
        "    if type(a2) is not list :\n",
        "      raise ValueError('a2 is not list')  \n",
        "    if shape(a1) != shape(a2):\n",
        "        return False\n",
        "    ele_lst = number_of_elements(a1) \n",
        "    a1_r = reshape(a1,(ele_lst,))   \n",
        "    a2_r = reshape(a2,(ele_lst,))\n",
        "    if  equal_nan is True:\n",
        "        return a1_r == a2_r\n",
        "    for i in range (ele_lst) :\n",
        "      if math.isnan(a1_r[i]) or math.isnan(a2_r[i]):\n",
        "        return False\n",
        "    return a1_r == a2_r   "
      ],
      "metadata": {
        "id": "lQmIFXPKpQPn"
      },
      "execution_count": null,
      "outputs": []
    },
    {
      "cell_type": "code",
      "source": [
        "import random\n",
        "\n",
        "def random_rand(shape_lst):\n",
        "  if type(shape_lst) is not list and type(shape_lst) is not tuple: \n",
        "    raise ValueError('shape_lst is not list or tuple') \n",
        "  if len(shape_lst) < 0:\n",
        "    raise ValueError('shape_lst is Illegal')  \n",
        "  ele = 1\n",
        "  for i in shape_lst:\n",
        "    ele *= i\n",
        "  lst = []  \n",
        "  for i in  range(ele):\n",
        "    lst.append(random.random())\n",
        "  lst = reshape(lst,shape_lst)\n",
        "  return lst   "
      ],
      "metadata": {
        "id": "9lTL8UcdSvWV"
      },
      "execution_count": null,
      "outputs": []
    },
    {
      "cell_type": "code",
      "source": [
        "import random\n",
        "\n",
        "def random_random(size = None):\n",
        "  if size is None:\n",
        "    return random.random()\n",
        "  if type(size) is int:\n",
        "    lst = []\n",
        "    for i in range(size):\n",
        "      lst.append(random.random()) \n",
        "    return lst\n",
        "  elif type(size) is list or type(size) is tuple:\n",
        "    ele = 1\n",
        "    for i in size:\n",
        "      ele *= i\n",
        "    lst = []  \n",
        "    for i in  range(ele):\n",
        "      lst.append(random.random())\n",
        "    lst = reshape(lst,size)\n",
        "    return lst\n",
        "  else:\n",
        "    raise ValueError('size is Illegal') "
      ],
      "metadata": {
        "id": "wuzIQeigVXrm"
      },
      "execution_count": null,
      "outputs": []
    },
    {
      "cell_type": "code",
      "source": [
        "import math\n",
        "\n",
        "def sin_lst(lst):\n",
        "  shape_lst = shape(lst)\n",
        "  ele = number_of_elements(lst)\n",
        "  lst_new = reshape(lst,(ele,))\n",
        "  for i in range(len(lst_new)):\n",
        "    if math.isinf(lst_new[i]):\n",
        "      lst_new[i] = float('nan')\n",
        "    elif math.isnan(lst_new[i]):\n",
        "      lst_new[i] = float('nan')\n",
        "    else:\n",
        "      lst_new[i] = math.sin(lst_new[i])   \n",
        "  return reshape(lst_new,shape_lst)"
      ],
      "metadata": {
        "id": "r3sLLCupzuJ_"
      },
      "execution_count": null,
      "outputs": []
    },
    {
      "cell_type": "code",
      "source": [
        "import math\n",
        "\n",
        "def cos_lst(lst):\n",
        "  shape_lst = shape(lst)\n",
        "  ele = number_of_elements(lst)\n",
        "  lst_new = reshape(lst,(ele,))\n",
        "  for i in range(len(lst_new)):\n",
        "    if math.isinf(lst_new[i]):\n",
        "      lst_new[i] = float('nan')\n",
        "    elif math.isnan(lst_new[i]):\n",
        "      lst_new[i] = float('nan')\n",
        "    else:\n",
        "      lst_new[i] = math.cos(lst_new[i])   \n",
        "  return reshape(lst_new,shape_lst)"
      ],
      "metadata": {
        "id": "7XivJyj4zxfR"
      },
      "execution_count": null,
      "outputs": []
    },
    {
      "cell_type": "code",
      "source": [
        "import math\n",
        "\n",
        "def tan_lst(lst):\n",
        "  shape_lst = shape(lst)\n",
        "  ele = number_of_elements(lst)\n",
        "  lst_new = reshape(lst,(ele,))\n",
        "  for i in range(len(lst_new)):\n",
        "    if math.isinf(lst_new[i]):\n",
        "      lst_new[i] = float('nan')\n",
        "    elif math.isnan(lst_new[i]):\n",
        "      lst_new[i] = float('nan')\n",
        "    elif abs(lst_new[i]) == math.pi/2:\n",
        "      lst_new[i] = float('nan')\n",
        "    elif lst_new[i] > math.pi and (abs(lst_new[i]) -  math.pi/2) % math.pi == 0:\n",
        "      lst_new[i] = float('nan')\n",
        "    else:\n",
        "      lst_new[i] = math.tan(lst_new[i])   \n",
        "  return reshape(lst_new,shape_lst)"
      ],
      "metadata": {
        "id": "Miq6bTIuzzqV"
      },
      "execution_count": null,
      "outputs": []
    }
  ]
}